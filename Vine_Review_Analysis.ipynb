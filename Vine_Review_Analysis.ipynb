{
 "cells": [
  {
   "cell_type": "markdown",
   "id": "5ca5ede4",
   "metadata": {},
   "source": [
    "## Data Preparation"
   ]
  },
  {
   "cell_type": "code",
   "execution_count": 1,
   "id": "237ae134",
   "metadata": {},
   "outputs": [],
   "source": [
    "# Dependencies and Setup\n",
    "import pandas as pd\n",
    "\n",
    "# File to Load (Remember to change the path if needed.)\n",
    "vine_data_to_load = \"vinetable.csv\"\n",
    "\n",
    "# Read the School Data and Student Data and store into a Pandas DataFrame\n",
    "vine_review_df = pd.read_csv(vine_data_to_load)"
   ]
  },
  {
   "cell_type": "code",
   "execution_count": 5,
   "id": "9560d8ae",
   "metadata": {},
   "outputs": [
    {
     "name": "stdout",
     "output_type": "stream",
     "text": [
      "              review_id  star_rating  helpful_votes  total_votes vine  \\\n",
      "0        R28HBXXO1UEVJT          5.0            0.0          0.0    N   \n",
      "1         RZKRFS2UUMFFU          5.0           15.0         15.0    N   \n",
      "2        R2WAU9MD9K6JQA          3.0            6.0          8.0    N   \n",
      "3        R36SCTKYTVPZPC          5.0           10.0         11.0    N   \n",
      "4        R10BM6JUOJX27Q          3.0            0.0          0.0    Y   \n",
      "...                 ...          ...            ...          ...  ...   \n",
      "6106714  R37CFAP1593I64          5.0           12.0         14.0    N   \n",
      "6106715  R1F8W5393LRNEK          2.0            8.0         13.0    N   \n",
      "6106716  R3QUWJ2VOQTE9U          5.0            7.0          9.0    N   \n",
      "6106717   RBTVBM87UTMOA          5.0            1.0          1.0    N   \n",
      "6106718   RIV7I4YMMXTKW          5.0            7.0          8.0    N   \n",
      "\n",
      "        verified_purchase  \n",
      "0                       N  \n",
      "1                       Y  \n",
      "2                       N  \n",
      "3                       Y  \n",
      "4                       N  \n",
      "...                   ...  \n",
      "6106714                 N  \n",
      "6106715                 N  \n",
      "6106716                 N  \n",
      "6106717                 N  \n",
      "6106718                 Y  \n",
      "\n",
      "[6106719 rows x 6 columns]\n"
     ]
    }
   ],
   "source": [
    "print(vine_review_df)"
   ]
  },
  {
   "cell_type": "code",
   "execution_count": 10,
   "id": "f2b5be70",
   "metadata": {},
   "outputs": [
    {
     "name": "stdout",
     "output_type": "stream",
     "text": [
      "              review_id  star_rating  helpful_votes  total_votes vine  \\\n",
      "16       R18VIM840CEFRP          1.0           16.0        105.0    N   \n",
      "21       R14PMAJTY0EAAT          4.0          135.0        142.0    N   \n",
      "55       R1363VA3TPNLVB          5.0          370.0        388.0    N   \n",
      "69        RBQZC5A3TSWT5          5.0           11.0         22.0    N   \n",
      "76        RW00TDPV9U93E          1.0           35.0         76.0    N   \n",
      "...                 ...          ...            ...          ...  ...   \n",
      "6106689  R2I8MDN6WM5710          5.0           54.0         55.0    N   \n",
      "6106690  R1TV0M5MOW448J          5.0           43.0         48.0    N   \n",
      "6106701  R2AD5IDMI69FX0          5.0           21.0         29.0    N   \n",
      "6106708   RI7PAHAEF7JTY          1.0           16.0         82.0    N   \n",
      "6106710   RDH0QQEAA7WEK          4.0           23.0         24.0    N   \n",
      "\n",
      "        verified_purchase  \n",
      "16                      N  \n",
      "21                      Y  \n",
      "55                      Y  \n",
      "69                      Y  \n",
      "76                      N  \n",
      "...                   ...  \n",
      "6106689                 N  \n",
      "6106690                 N  \n",
      "6106701                 Y  \n",
      "6106708                 N  \n",
      "6106710                 N  \n",
      "\n",
      "[443536 rows x 6 columns]\n"
     ]
    }
   ],
   "source": [
    "# Total votes >= 20 \n",
    "clean_reviews = vine_review_df[vine_review_df['total_votes'] >= 20]\n",
    "\n",
    "print(clean_reviews)"
   ]
  },
  {
   "cell_type": "code",
   "execution_count": 15,
   "id": "68a6c200",
   "metadata": {
    "scrolled": true
   },
   "outputs": [
    {
     "name": "stdout",
     "output_type": "stream",
     "text": [
      "              review_id  star_rating  helpful_votes  total_votes vine  \\\n",
      "21       R14PMAJTY0EAAT          4.0          135.0        142.0    N   \n",
      "55       R1363VA3TPNLVB          5.0          370.0        388.0    N   \n",
      "69        RBQZC5A3TSWT5          5.0           11.0         22.0    N   \n",
      "79       R3OW0AIVLEDIQ7          3.0           99.0        121.0    N   \n",
      "91       R3DTESO4FUAPKQ          5.0           90.0        102.0    N   \n",
      "...                 ...          ...            ...          ...  ...   \n",
      "6106670  R2HVX86SCZGOUS          5.0           74.0         74.0    N   \n",
      "6106689  R2I8MDN6WM5710          5.0           54.0         55.0    N   \n",
      "6106690  R1TV0M5MOW448J          5.0           43.0         48.0    N   \n",
      "6106701  R2AD5IDMI69FX0          5.0           21.0         29.0    N   \n",
      "6106710   RDH0QQEAA7WEK          4.0           23.0         24.0    N   \n",
      "\n",
      "        verified_purchase  \n",
      "21                      Y  \n",
      "55                      Y  \n",
      "69                      Y  \n",
      "79                      N  \n",
      "91                      N  \n",
      "...                   ...  \n",
      "6106670                 Y  \n",
      "6106689                 N  \n",
      "6106690                 N  \n",
      "6106701                 Y  \n",
      "6106710                 N  \n",
      "\n",
      "[337176 rows x 6 columns]\n"
     ]
    }
   ],
   "source": [
    "# Helpful votes / total votes >= 50%\n",
    "helpful_reviews = clean_reviews[(clean_reviews['helpful_votes']/clean_reviews['total_votes']).astype('float') >= .50]\n",
    "\n",
    "print(helpful_reviews)"
   ]
  },
  {
   "cell_type": "code",
   "execution_count": 17,
   "id": "9c9dba02",
   "metadata": {
    "scrolled": true
   },
   "outputs": [
    {
     "name": "stdout",
     "output_type": "stream",
     "text": [
      "              review_id  star_rating  helpful_votes  total_votes vine  \\\n",
      "726      R2Z8083V8ZFQVZ          3.0           82.0         87.0    Y   \n",
      "1383      RK25TAO4GGS5G          3.0           22.0         24.0    Y   \n",
      "1552     R2SJQG3C6KY0M8          3.0           18.0         20.0    Y   \n",
      "3385     R12CHC0CB2WASU          5.0           43.0         48.0    Y   \n",
      "3942     R2RY328TIDXMTE          2.0           50.0         61.0    Y   \n",
      "...                 ...          ...            ...          ...  ...   \n",
      "4875385  R2GO4IWX9IBQF4          2.0           73.0         93.0    Y   \n",
      "4880660  R21C1MHB17TMOM          3.0           32.0         41.0    Y   \n",
      "4881396  R18XN1UF40RYJD          4.0           20.0         21.0    Y   \n",
      "4885002   RPBOGIOQH8C3A          5.0           19.0         21.0    Y   \n",
      "4929981  R2CYKBF8EVBPQE          3.0           84.0         94.0    Y   \n",
      "\n",
      "        verified_purchase  \n",
      "726                     N  \n",
      "1383                    N  \n",
      "1552                    N  \n",
      "3385                    N  \n",
      "3942                    N  \n",
      "...                   ...  \n",
      "4875385                 N  \n",
      "4880660                 N  \n",
      "4881396                 N  \n",
      "4885002                 N  \n",
      "4929981                 N  \n",
      "\n",
      "[4781 rows x 6 columns]\n"
     ]
    }
   ],
   "source": [
    "# Review written as part of paid program\n",
    "paid_reviews = helpful_reviews[helpful_reviews['vine']=='Y']\n",
    "\n",
    "print(paid_reviews)"
   ]
  },
  {
   "cell_type": "code",
   "execution_count": 18,
   "id": "e189218a",
   "metadata": {},
   "outputs": [
    {
     "name": "stdout",
     "output_type": "stream",
     "text": [
      "              review_id  star_rating  helpful_votes  total_votes vine  \\\n",
      "21       R14PMAJTY0EAAT          4.0          135.0        142.0    N   \n",
      "55       R1363VA3TPNLVB          5.0          370.0        388.0    N   \n",
      "69        RBQZC5A3TSWT5          5.0           11.0         22.0    N   \n",
      "79       R3OW0AIVLEDIQ7          3.0           99.0        121.0    N   \n",
      "91       R3DTESO4FUAPKQ          5.0           90.0        102.0    N   \n",
      "...                 ...          ...            ...          ...  ...   \n",
      "6106670  R2HVX86SCZGOUS          5.0           74.0         74.0    N   \n",
      "6106689  R2I8MDN6WM5710          5.0           54.0         55.0    N   \n",
      "6106690  R1TV0M5MOW448J          5.0           43.0         48.0    N   \n",
      "6106701  R2AD5IDMI69FX0          5.0           21.0         29.0    N   \n",
      "6106710   RDH0QQEAA7WEK          4.0           23.0         24.0    N   \n",
      "\n",
      "        verified_purchase  \n",
      "21                      Y  \n",
      "55                      Y  \n",
      "69                      Y  \n",
      "79                      N  \n",
      "91                      N  \n",
      "...                   ...  \n",
      "6106670                 Y  \n",
      "6106689                 N  \n",
      "6106690                 N  \n",
      "6106701                 Y  \n",
      "6106710                 N  \n",
      "\n",
      "[332395 rows x 6 columns]\n"
     ]
    }
   ],
   "source": [
    "# Review written as part of unpaid program\n",
    "unpaid_reviews = helpful_reviews[helpful_reviews['vine']=='N']\n",
    "\n",
    "print(unpaid_reviews)"
   ]
  },
  {
   "cell_type": "markdown",
   "id": "b71e5f39",
   "metadata": {},
   "source": [
    "## Vine Reviews Analysis"
   ]
  },
  {
   "cell_type": "code",
   "execution_count": 37,
   "id": "b1b0ad81",
   "metadata": {},
   "outputs": [
    {
     "name": "stdout",
     "output_type": "stream",
     "text": [
      "4781\n"
     ]
    }
   ],
   "source": [
    "# Total number of reviews\n",
    "paid_total = len(paid_reviews)\n",
    "\n",
    "print(paid_total)"
   ]
  },
  {
   "cell_type": "code",
   "execution_count": 49,
   "id": "04c5af8b",
   "metadata": {},
   "outputs": [
    {
     "name": "stdout",
     "output_type": "stream",
     "text": [
      "1604\n"
     ]
    }
   ],
   "source": [
    "# Total of 5 star ratings\n",
    "paid_five_rate = paid_reviews.loc[paid_reviews.star_rating == 5, 'star_rating'].count()\n",
    "\n",
    "print(paid_five_rate)"
   ]
  },
  {
   "cell_type": "code",
   "execution_count": 39,
   "id": "8422e297",
   "metadata": {},
   "outputs": [
    {
     "name": "stdout",
     "output_type": "stream",
     "text": [
      "0.33549466638778497\n"
     ]
    }
   ],
   "source": [
    "# Percentage of 5 star reviews\n",
    "paid_percent = (paid_five_rate/paid_total).astype('float')\n",
    "\n",
    "print(paid_percent)"
   ]
  },
  {
   "cell_type": "markdown",
   "id": "030ca4e5",
   "metadata": {},
   "source": [
    "## Non-Vine Reviews Analysis "
   ]
  },
  {
   "cell_type": "code",
   "execution_count": 45,
   "id": "d7a9d532",
   "metadata": {},
   "outputs": [
    {
     "name": "stdout",
     "output_type": "stream",
     "text": [
      "332395\n"
     ]
    }
   ],
   "source": [
    "# Total number of reviews\n",
    "unpaid_total = len(unpaid_reviews)\n",
    "\n",
    "print(unpaid_total)"
   ]
  },
  {
   "cell_type": "code",
   "execution_count": 46,
   "id": "9569a5fc",
   "metadata": {},
   "outputs": [
    {
     "name": "stdout",
     "output_type": "stream",
     "text": [
      "168800\n"
     ]
    }
   ],
   "source": [
    "# Total of 5 star ratings\n",
    "unpaid_five_rate = unpaid_reviews.loc[unpaid_reviews.star_rating == 5, 'star_rating'].count()\n",
    "\n",
    "print(unpaid_five_rate)"
   ]
  },
  {
   "cell_type": "code",
   "execution_count": 47,
   "id": "238191b8",
   "metadata": {},
   "outputs": [
    {
     "name": "stdout",
     "output_type": "stream",
     "text": [
      "0.5078295401555378\n"
     ]
    }
   ],
   "source": [
    "# Percentage of 5 star reviews\n",
    "unpaid_percent = (unpaid_five_rate/unpaid_total).astype('float')\n",
    "\n",
    "print(unpaid_percent)"
   ]
  }
 ],
 "metadata": {
  "kernelspec": {
   "display_name": "PythonData",
   "language": "python",
   "name": "pythondata"
  },
  "language_info": {
   "codemirror_mode": {
    "name": "ipython",
    "version": 3
   },
   "file_extension": ".py",
   "mimetype": "text/x-python",
   "name": "python",
   "nbconvert_exporter": "python",
   "pygments_lexer": "ipython3",
   "version": "3.7.13"
  }
 },
 "nbformat": 4,
 "nbformat_minor": 5
}
